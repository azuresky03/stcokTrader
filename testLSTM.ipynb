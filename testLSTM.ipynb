{
 "cells": [
  {
   "cell_type": "code",
   "execution_count": 2,
   "metadata": {},
   "outputs": [],
   "source": [
    "import pandas as pd\n",
    "import numpy as np"
   ]
  },
  {
   "cell_type": "code",
   "execution_count": 6,
   "metadata": {},
   "outputs": [
    {
     "name": "stdout",
     "output_type": "stream",
     "text": [
      "(1608, 14)\n",
      "(563, 14)\n"
     ]
    }
   ],
   "source": [
    "train = pd.read_csv(\"./data/Train万华化学.csv\", sep=',')\n",
    "print(train.shape)\n",
    "test = pd.read_csv(\"./data/Test万华化学.csv\", sep=',')\n",
    "print(test.shape)\n",
    "whole = pd.concat([train, test],axis=0)\n",
    "whole = whole.reset_index(drop=True)"
   ]
  },
  {
   "cell_type": "code",
   "execution_count": 7,
   "metadata": {},
   "outputs": [
    {
     "data": {
      "text/plain": [
       "<bound method NDFrame.head of             date       code         open         high          low   \n",
       "0     2014-06-03  sh.600309   373.057747   377.737683   372.389184  \\\n",
       "1     2014-06-04  sh.600309   371.943476   372.612038   365.257854   \n",
       "2     2014-06-05  sh.600309   367.486394   375.509142   367.486394   \n",
       "3     2014-06-06  sh.600309   373.949163   374.172017   366.149270   \n",
       "4     2014-06-09  sh.600309   368.154957   374.172017   367.263540   \n",
       "...          ...        ...          ...          ...          ...   \n",
       "2166  2023-04-24  sh.600309  3197.962502  3200.701069  3100.401025   \n",
       "2167  2023-04-25  sh.600309  3107.247445  3237.671734  3107.247445   \n",
       "2168  2023-04-26  sh.600309  3228.086747  3229.798352  3139.083295   \n",
       "2169  2023-04-27  sh.600309  3140.452579  3227.402105  3119.228679   \n",
       "2170  2023-04-28  sh.600309  3180.846453  3223.636574  3143.875788   \n",
       "\n",
       "            close     preclose    volume        amount  adjustflag      turn   \n",
       "0      372.612038   375.509142   4670514  7.839471e+07           1  0.215994  \\\n",
       "1      366.594978   372.612038   4887170  8.056444e+07           1  0.226014   \n",
       "2      374.172017   366.594978   6410890  1.073360e+08           1  0.296480   \n",
       "3      369.046373   374.172017   4432572  7.345046e+07           1  0.204990   \n",
       "4      367.486394   369.046373   5929662  9.852790e+07           1  0.274225   \n",
       "...           ...          ...       ...           ...         ...       ...   \n",
       "2166  3106.220482  3165.784331   9139280  8.334826e+08           1  0.291100   \n",
       "2167  3226.375142  3106.220482  14893286  1.391737e+09           1  0.474300   \n",
       "2168  3140.110258  3226.375142   7631860  7.058580e+08           1  0.243100   \n",
       "2169  3200.701069  3140.110258   7536905  6.979731e+08           1  0.240000   \n",
       "2170  3155.514701  3200.701069   6749181  6.246925e+08           1  0.215000   \n",
       "\n",
       "      tradestatus  pctChg  isST  \n",
       "0               1 -0.7715     0  \n",
       "1               1 -1.6148     0  \n",
       "2               1  2.0669     0  \n",
       "3               1 -1.3699     0  \n",
       "4               1 -0.4227     0  \n",
       "...           ...     ...   ...  \n",
       "2166            1 -1.8815     0  \n",
       "2167            1  3.8682     0  \n",
       "2168            1 -2.6737     0  \n",
       "2169            1  1.9296     0  \n",
       "2170            1 -1.4118     0  \n",
       "\n",
       "[2171 rows x 14 columns]>"
      ]
     },
     "execution_count": 7,
     "metadata": {},
     "output_type": "execute_result"
    }
   ],
   "source": [
    "whole.head"
   ]
  },
  {
   "cell_type": "code",
   "execution_count": null,
   "metadata": {},
   "outputs": [],
   "source": []
  }
 ],
 "metadata": {
  "kernelspec": {
   "display_name": "Python 3",
   "language": "python",
   "name": "python3"
  },
  "language_info": {
   "codemirror_mode": {
    "name": "ipython",
    "version": 3
   },
   "file_extension": ".py",
   "mimetype": "text/x-python",
   "name": "python",
   "nbconvert_exporter": "python",
   "pygments_lexer": "ipython3",
   "version": "3.10.6"
  },
  "orig_nbformat": 4
 },
 "nbformat": 4,
 "nbformat_minor": 2
}
