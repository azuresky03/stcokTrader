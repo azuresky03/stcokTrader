{
  "cells": [
    {
      "cell_type": "markdown",
      "metadata": {
        "id": "kMmDown0Hd3B"
      },
      "source": [
        "Problem Definitions:\n",
        "\n",
        "1.   State \\\n",
        "S: [*p*, *h*, b, f, t] -> each state contains five components. *p* is the price vector for all stocks that agent is allowed to trade on. *h* is the share holding vector for all stocks that agent has in the account. b is a scalar that represents account balance. f is the fee for each transaction. t is the timestamp from starting date. \n",
        "2.   Action \\\n",
        "A: [indicator, amount] -> $indicator$ is essentially a num: 0 indicates selling, 1 indicates buying, 2 indicates holding and $amount$ is the amount of shares that involve in current transaction which is in the range of [-max_share, max_share] for target stock account\n",
        "3. \n",
        "\n",
        "\n"
      ]
    },
    {
      "cell_type": "code",
      "execution_count": 2,
      "metadata": {
        "id": "3tYlLPrb309u"
      },
      "outputs": [],
      "source": [
        "import numpy as np\n",
        "from gym import Env\n",
        "from gym.spaces import Box, Discrete\n",
        "from pydantic import BaseModel\n",
        "from finrl.meta.env_stock_trading.env_stocktrading import StockTradingEnv"
      ]
    },
    {
      "cell_type": "code",
      "execution_count": null,
      "metadata": {
        "id": "LxpA3eM4_1Wg"
      },
      "outputs": [],
      "source": [
        "class Action(BaseModel):\n",
        "  indicator: Discrete(3)\n",
        "  amount: int\n",
        "\n",
        "\n",
        "class Observation(BaseModel):\n",
        "  price_vector:     list[float]\n",
        "  sharehold_vector: list[int]\n",
        "  balance:          float\n",
        "  fee:              float               # FIXME: represent fee per transaction\n",
        "  timestamp:        float"
      ]
    },
    {
      "cell_type": "code",
      "execution_count": null,
      "metadata": {
        "id": "0yEky0ykGOXs"
      },
      "outputs": [],
      "source": [
        "class StockEnv(Env):\n",
        "  def __init__(self, data, initial_balance=10000, total_stock_num=300, max_hold_stocks=30, time_interval=360):\n",
        "    self.data = data\n",
        "    \n",
        "    self.observation_space = Box(low=0, hight=total_stock_num, shape=(total_stock_num,), dtype=Observation)\n",
        "    self.action_space = Box(low=0, high=29, shape=(max_hold_stocks,), dtype=Action)\n",
        "\n",
        "    self.days = time_interval\n",
        "    self.balance = initial_balance\n",
        "    self.current_step = 0\n",
        "\n",
        "\n",
        "  def _get_observation(self):\n",
        "    return\n",
        "  \n",
        "\n",
        "  def _get_reward(self):\n",
        "    return\n",
        "\n",
        "\n",
        "  def _take_action(self):\n",
        "    return\n",
        "\n",
        "\n",
        "  def step(self, action):\n",
        "    return\n",
        "\n"
      ]
    },
    {
      "cell_type": "code",
      "execution_count": null,
      "metadata": {
        "id": "DIwKnrNa37AG"
      },
      "outputs": [],
      "source": []
    }
  ],
  "metadata": {
    "colab": {
      "provenance": []
    },
    "kernelspec": {
      "display_name": "Python 3",
      "name": "python3"
    },
    "language_info": {
      "codemirror_mode": {
        "name": "ipython",
        "version": 3
      },
      "file_extension": ".py",
      "mimetype": "text/x-python",
      "name": "python",
      "nbconvert_exporter": "python",
      "pygments_lexer": "ipython3",
      "version": "3.10.11"
    }
  },
  "nbformat": 4,
  "nbformat_minor": 0
}
