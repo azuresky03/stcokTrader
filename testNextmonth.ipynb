{
 "cells": [
  {
   "cell_type": "code",
   "execution_count": 4,
   "metadata": {},
   "outputs": [],
   "source": [
    "from stock_LSTM import LSTM\n",
    "import pandas as pd\n",
    "import numpy as np\n",
    "# import train.py\n",
    "import torch"
   ]
  },
  {
   "cell_type": "code",
   "execution_count": 5,
   "metadata": {},
   "outputs": [],
   "source": [
    "new_dates = pd.date_range(start='2023-04-29', periods=30, freq='B')\n"
   ]
  },
  {
   "cell_type": "code",
   "execution_count": 10,
   "metadata": {},
   "outputs": [
    {
     "name": "stdout",
     "output_type": "stream",
     "text": [
      "[[['2014-06-03' 'sh.600309' 373.05774666 ... 1 -0.7715 0]\n",
      "  ['2014-06-04' 'sh.600309' 371.94347621 ... 1 -1.6148 0]\n",
      "  ['2014-06-05' 'sh.600309' 367.48639441 ... 1 2.0669 0]\n",
      "  ...\n",
      "  ['2014-07-09' 'sh.600309' 342.89420264 ... 1 -2.8475 0]\n",
      "  ['2014-07-10' 'sh.600309' 333.35643988 ... 1 0.4187 0]\n",
      "  ['2014-07-11' 'sh.600309' 334.75221004 ... 1 0.7644 0]]\n",
      "\n",
      " [['2014-06-04' 'sh.600309' 371.94347621 ... 1 -1.6148 0]\n",
      "  ['2014-06-05' 'sh.600309' 367.48639441 ... 1 2.0669 0]\n",
      "  ['2014-06-06' 'sh.600309' 373.94916302 ... 1 -1.3699 0]\n",
      "  ...\n",
      "  ['2014-07-10' 'sh.600309' 333.35643988 ... 1 0.4187 0]\n",
      "  ['2014-07-11' 'sh.600309' 334.75221004 ... 1 0.7644 0]\n",
      "  ['2014-07-14' 'sh.600309' 337.07849364 ... 1 0.069 0]]\n",
      "\n",
      " [['2014-06-05' 'sh.600309' 367.48639441 ... 1 2.0669 0]\n",
      "  ['2014-06-06' 'sh.600309' 373.94916302 ... 1 -1.3699 0]\n",
      "  ['2014-06-09' 'sh.600309' 368.15495668 ... 1 -0.4227 0]\n",
      "  ...\n",
      "  ['2014-07-11' 'sh.600309' 334.75221004 ... 1 0.7644 0]\n",
      "  ['2014-07-14' 'sh.600309' 337.07849364 ... 1 0.069 0]\n",
      "  ['2014-07-15' 'sh.600309' 336.84586528 ... 1 1.9297 0]]\n",
      "\n",
      " ...\n",
      "\n",
      " [['2020-11-27' 'sh.600309' 2720.239427 ... 1 2.1681 0]\n",
      "  ['2020-11-30' 'sh.600309' 2720.239427 ... 1 -3.195 0]\n",
      "  ['2020-12-01' 'sh.600309' 2679.92744513 ... 1 3.4483 0]\n",
      "  ...\n",
      "  ['2021-01-05' 'sh.600309' 3074.1982922 ... 1 3.7187 0]\n",
      "  ['2021-01-06' 'sh.600309' 3202.0167713 ... 1 0.8195 0]\n",
      "  ['2021-01-07' 'sh.600309' 3401.9379822 ... 1 8.7076 0]]\n",
      "\n",
      " [['2020-11-30' 'sh.600309' 2720.239427 ... 1 -3.195 0]\n",
      "  ['2020-12-01' 'sh.600309' 2679.92744513 ... 1 3.4483 0]\n",
      "  ['2020-12-02' 'sh.600309' 2736.6264115 ... 1 -1.2381 0]\n",
      "  ...\n",
      "  ['2021-01-06' 'sh.600309' 3202.0167713 ... 1 0.8195 0]\n",
      "  ['2021-01-07' 'sh.600309' 3401.9379822 ... 1 8.7076 0]\n",
      "  ['2021-01-08' 'sh.600309' 3506.814683 ... 1 1.8787 0]]\n",
      "\n",
      " [['2020-12-01' 'sh.600309' 2679.92744513 ... 1 3.4483 0]\n",
      "  ['2020-12-02' 'sh.600309' 2736.6264115 ... 1 -1.2381 0]\n",
      "  ['2020-12-03' 'sh.600309' 2729.41613832 ... 1 0.229 0]\n",
      "  ...\n",
      "  ['2021-01-07' 'sh.600309' 3401.9379822 ... 1 8.7076 0]\n",
      "  ['2021-01-08' 'sh.600309' 3506.814683 ... 1 1.8787 0]\n",
      "  ['2021-01-11' 'sh.600309' 3571.37940193 ... 1 -0.3028 0]]]\n"
     ]
    },
    {
     "ename": "TypeError",
     "evalue": "can't convert np.ndarray of type numpy.object_. The only supported types are: float64, float32, float16, complex64, complex128, int64, int32, int16, int8, uint8, and bool.",
     "output_type": "error",
     "traceback": [
      "\u001b[0;31m---------------------------------------------------------------------------\u001b[0m",
      "\u001b[0;31mTypeError\u001b[0m                                 Traceback (most recent call last)",
      "Cell \u001b[0;32mIn[10], line 22\u001b[0m\n\u001b[1;32m     19\u001b[0m \u001b[39mprint\u001b[39m(x_train)\n\u001b[1;32m     20\u001b[0m test_dfs, test_scaler \u001b[39m=\u001b[39m LSTM\u001b[39m.\u001b[39mstocks_data([\u001b[39m\"\u001b[39m\u001b[39mTest万华化学.csv\u001b[39m\u001b[39m\"\u001b[39m], dates\u001b[39m=\u001b[39mdates_test, img_dir\u001b[39m=\u001b[39m\u001b[39m\"\u001b[39m\u001b[39m./train_results\u001b[39m\u001b[39m\"\u001b[39m)\n\u001b[0;32m---> 22\u001b[0m x_train_tensor \u001b[39m=\u001b[39m torch\u001b[39m.\u001b[39;49mfrom_numpy(x_train)\u001b[39m.\u001b[39mtype(torch\u001b[39m.\u001b[39mTensor)\n\u001b[1;32m     23\u001b[0m x_test_tensor \u001b[39m=\u001b[39m torch\u001b[39m.\u001b[39mfrom_numpy(x_test)\u001b[39m.\u001b[39mtype(torch\u001b[39m.\u001b[39mTensor)\n\u001b[1;32m     24\u001b[0m y_train_tensor \u001b[39m=\u001b[39m torch\u001b[39m.\u001b[39mfrom_numpy(y_train)\u001b[39m.\u001b[39mtype(torch\u001b[39m.\u001b[39mTensor)\n",
      "\u001b[0;31mTypeError\u001b[0m: can't convert np.ndarray of type numpy.object_. The only supported types are: float64, float32, float16, complex64, complex128, int64, int32, int16, int8, uint8, and bool."
     ]
    }
   ],
   "source": [
    "model = LSTM(hidden_dim=32, input_dim=1, num_layers=2, out_dim=1)\n",
    "        # data_tensors = model.train(\n",
    "        #     model_path=\"./savedModel/\", \n",
    "        #     stock_data=combined_df, \n",
    "        #     stock_name=file_name,\n",
    "        #     split_rate=split_rate,\n",
    "        #     result_store_dir=\"./train_result\", \n",
    "        #     look_back=60,\n",
    "        #     # optimizer_fn = torch.optim.SGD(model.parameters(), lr=0.02)\n",
    "        # )\n",
    "dates_test = pd.date_range('2021-04-29','2023-05-29',freq='B')\n",
    "train = pd.read_csv('../stockTrader/data/Train万华化学.csv', sep=',')\n",
    "test = pd.read_csv('../stockTrader/data/Test万华化学.csv', sep=',')\n",
    "new_rows = pd.DataFrame(index=new_dates, columns=test.columns)\n",
    "test = pd.concat([test, new_rows])\n",
    "combined_df = pd.concat([train, test], axis=0)\n",
    "split_rate = len(test) /(len(train) + len(test))\n",
    "x_train, y_train, x_test, y_test = LSTM.load_data(combined_df, split_rate, 30)\n",
    "\n",
    "test_dfs, test_scaler = LSTM.stocks_data([\"Test万华化学.csv\"], dates=dates_test, img_dir=\"./train_results\")\n",
    "\n",
    "x_train_tensor = torch.from_numpy(x_train).type(torch.Tensor)\n",
    "x_test_tensor = torch.from_numpy(x_test).type(torch.Tensor)\n",
    "y_train_tensor = torch.from_numpy(y_train).type(torch.Tensor)\n",
    "y_test_tensor = torch.from_numpy(y_test).type(torch.Tensor)\n",
    "\n",
    "data_tensors = (x_train_tensor, y_train_tensor, x_test_tensor, y_test_tensor)\n",
    "file_name = \"万华化学\"\n",
    "y_train_pred, y_test_pred = model.predict(\n",
    "                    data_tensors=data_tensors, \n",
    "                    stock_name=file_name, \n",
    "                    df=combined_df, \n",
    "                    scaler=test_scaler,\n",
    "                    saved_model_path=f\"./savedModel/{file_name}\"\n",
    "                )"
   ]
  },
  {
   "cell_type": "code",
   "execution_count": null,
   "metadata": {},
   "outputs": [],
   "source": []
  }
 ],
 "metadata": {
  "kernelspec": {
   "display_name": "Python 3",
   "language": "python",
   "name": "python3"
  },
  "language_info": {
   "codemirror_mode": {
    "name": "ipython",
    "version": 3
   },
   "file_extension": ".py",
   "mimetype": "text/x-python",
   "name": "python",
   "nbconvert_exporter": "python",
   "pygments_lexer": "ipython3",
   "version": "3.10.6"
  },
  "orig_nbformat": 4
 },
 "nbformat": 4,
 "nbformat_minor": 2
}
